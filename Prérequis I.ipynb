{
  "cells": [
    {
      "cell_type": "markdown",
      "metadata": {
        "id": "gjbt34Pr1Hks"
      },
      "source": [
        "\n",
        "<font color=\"green\"> <h1 align=\"center\"> ESME - Big Data & Digital Marketing </h1>  </font>  \n",
        "\n",
        "\n",
        "<font color=\"green\"> <h2 align=\"center\"> Révision </h2> </font>\n",
        "\n",
        "\n",
        "<font color=\"green\"> <h3 align=\"center\"> NASSE ABALORI MARTIN </h3></font>\n"
      ]
    },
    {
      "cell_type": "markdown",
      "metadata": {},
      "source": [
        "<font color=\"green\"> <h3 align=\"left\"> I. Installations de logiciels</h3></font> \n",
        "\n",
        "<font color=\"green\"> <h5 align=\"left\"> 1. Installation de Kafka-Python</h5></font> \n",
        "\n",
        "<font> <p align=\"left\"> **Kafka-Python** est la librairie nécéssaire pour travailler sur kafka avec le langage python</p>\n",
        "        <p> Dans votre terminal, tapez:  `pip install kafka-python`</p>\n",
        "</font> \n",
        "\n",
        "<font color=\"green\"> <h5 align=\"left\">  2. Installation de l'Extension Jupyter pour VS Code</h5></font> \n",
        "\n",
        "<font> <p align=\"left\"> **Extension Jupyter pour VS Code** permet d'utiliser un notebook jupyter directement dans vs coce</p>\n",
        "        <p> Dans paramètre, choisissez `extensions`, recherchez \"Jupyter\" et installez l'extension</p>\n",
        "</font> \n",
        "\n"
      ]
    },
    {
      "cell_type": "markdown",
      "metadata": {},
      "source": [
        "<font color=\"green\"> <h3 align=\"left\"> II. Rappel de quelques Notions Clés en Python</h3></font>\n",
        "<table>\n",
        "<thead>\n",
        "<tr>\n",
        "<th>Catégorie</th>\n",
        "<th>Opération</th>\n",
        "<th>Exemple</th>\n",
        "</tr>\n",
        "</thead>\n",
        "<tbody>\n",
        "<tr>\n",
        "<td><b>Types de Données</b></td>\n",
        "<td>String</td>\n",
        "<td><code>chaine = \"Bonjour\"</code></td>\n",
        "</tr>\n",
        "<tr>\n",
        "<td></td>\n",
        "<td>Integer</td>\n",
        "<td><code>entier = 5</code></td>\n",
        "</tr>\n",
        "<tr>\n",
        "<td></td>\n",
        "<td>Float</td>\n",
        "<td><code>decimal = 5.5</code></td>\n",
        "</tr>\n",
        "<tr>\n",
        "<td></td>\n",
        "<td>Boolean</td>\n",
        "<td><code>vrai = True</code>, <code>faux = False</code></td>\n",
        "</tr>\n",
        "<tr>\n",
        "<td><b>Structures de Données</b></td>\n",
        "<td>Listes</td>\n",
        "<td><code>liste = [1, 2, 3]</code><br><code>element = liste[0]</code><br><code>liste[0] = 10</code><br><code>liste.append(4)</code><br><code>del liste[0]</code></td>\n",
        "</tr>\n",
        "<tr>\n",
        "<td></td>\n",
        "<td>Tuples</td>\n",
        "<td><code>tuple = (1, 2, 3)</code><br><code>element = tuple[0]</code></td>\n",
        "</tr>\n",
        "<tr>\n",
        "<td></td>\n",
        "<td>Dictionnaires</td>\n",
        "<td><code>dico = {'cle1': 'valeur1', 'cle2': 'valeur2'}</code><br><code>valeur = dico['cle1']</code><br><code>dico['cle1'] = 'nouvelle valeur'</code><br><code>dico['cle3'] = 'valeur3'</code><br><code>del dico['cle1']</code></td>\n",
        "</tr>\n",
        "<tr>\n",
        "<td></td>\n",
        "<td>Ensembles</td>\n",
        "<td><code>ensemble = {1, 2, 3}</code><br><code>ensemble.add(4)</code><br><code>ensemble.remove(1)</code></td>\n",
        "</tr>\n",
        "<tr>\n",
        "<td><b>Contrôle de Flux</b></td>\n",
        "<td>Conditions</td>\n",
        "<td><pre><code>if x > 0:<br>    # instructions si vrai<br>elif x == 0:<br>    # instructions si égal à zéro<br>else:<br>    # instructions si faux</code></pre></td>\n",
        "</tr>\n",
        "<tr>\n",
        "<td></td>\n",
        "<td>Boucles For</td>\n",
        "<td><pre><code>for i in range(3):<br>    # instructions pour chaque i</code></pre></td>\n",
        "</tr>\n",
        "<tr>\n",
        "<td></td>\n",
        "<td>Boucles While</td>\n",
        "<td><pre><code>while x < 5:<br>    # instructions tant que x est inférieur à 5</code></pre></td>\n",
        "</tr>\n",
        "<tr>\n",
        "<td><b>Fonctions</b></td>\n",
        "<td>Déclaration et Appel</td>\n",
        "<td><pre><code>def somme(a, b):<br>    return a + b<br><br>total = somme(5, 3)</code></pre></td>\n",
        "</tr>\n",
        "<tr>\n",
        "<td><b>Gestion des Erreurs</b></td>\n",
        "<td>Try/Except</td>\n",
        "<td><pre><code>try:<br>    # instructions susceptibles de générer une erreur<br>except ValueError:<br>    # instructions en cas d'erreur</code></pre></td>\n",
        "</tr>\n",
        "<tr>\n",
        "<td><b>Fichiers</b></td>\n",
        "<td>Lecture et Écriture</td>\n",
        "<td><pre><code>with open('text.txt', 'r') as file:<br>    contenu = file.read()<br><br>with open('text.txt', 'w') as file:<br>    file.write('Bonjour')</code></pre></td>\n",
        "</tr>\n",
        "<tr>\n",
        "<td><b>Importation de Modules</b></td>\n",
        "<td>Importation</td>\n",
        "<td><code>import math</code><br><code>from math import sqrt</code></td>\n",
        "</tr>\n",
        "</tbody>\n",
        "</table>\n"
      ]
    },
    {
      "cell_type": "markdown",
      "metadata": {},
      "source": [
        "<font color=\"green\"> <h3 align=\"left\">Exercice d'Application sur les Notions Clés en Python</h3></font>\n",
        "<p><b>Contexte :</b> Pour renforcer votre compréhension des fondamentaux de Python, cet exercice couvre plusieurs aspects clés du langage, y compris les structures de données, les boucles, les conditions, et la manipulation de fichiers.</p>\n",
        "\n",
        "<p><b>Exercices :</b></p>\n",
        "<ol>\n",
        "<li><b>Manipulation de Listes :</b>\n",
        "<ul>\n",
        "<li>Créez une liste nommée <code>fruits</code> avec les éléments \"pomme\", \"banane\", \"cerise\".</li>\n",
        "<li>Ajoutez \"orange\" à la fin de la liste.</li>\n",
        "<li>Supprimez \"banane\" de la liste.</li>\n",
        "<li>Affichez le dernier élément de la liste.</li>\n",
        "</ul>\n",
        "</li>\n",
        "<li><b>Utilisation des Dictionnaires :</b>\n",
        "<ul>\n",
        "<li>Créez un dictionnaire représentant un utilisateur, avec les clés \"nom\", \"âge\" et \"ville\".</li>\n",
        "<li>Modifiez l'âge de l'utilisateur.</li>\n",
        "<li>Ajoutez une clé \"profession\" avec une valeur appropriée.</li>\n",
        "<li>Affichez toutes les clés du dictionnaire.</li>\n",
        "</ul>\n",
        "</li>\n",
        "<li><b>Contrôle de Flux :</b>\n",
        "<ul>\n",
        "<li>Écrivez une condition qui vérifie si l'âge de l'utilisateur est supérieur à 18 et imprimez un message approprié.</li>\n",
        "<li>Utilisez une boucle <code>for</code> pour afficher chaque fruit de la liste <code>fruits</code>.</li>\n",
        "<li>Écrivez une boucle <code>while</code> qui compte de 0 à 10 et s'arrête lorsqu'elle atteint 5.</li>\n",
        "</ul>\n",
        "</li>\n",
        "<li><b>Fonctions et Gestion des Erreurs :</b>\n",
        "<ul>\n",
        "<li>Définissez une fonction nommée <code>saluer</code> qui prend un nom en paramètre et retourne un message de salutation.</li>\n",
        "<li>Utilisez un bloc <code>try-except</code> pour gérer une éventuelle erreur de type.</li>\n",
        "</ul>\n",
        "</li>\n",
        "<li><b>Manipulation de Fichiers :</b>\n",
        "<ul>\n",
        "<li>Écrivez un petit texte dans un fichier nommé <code>note.txt</code>.</li>\n",
        "<li>Lisez et affichez le contenu de <code>note.txt</code>.</li>\n",
        "</ul>\n",
        "</li>\n",
        "</ol>"
      ]
    },
    {
      "cell_type": "markdown",
      "metadata": {},
      "source": [
        "<li><b>Manipulation de Listes :</b>\n",
        "<ul>\n",
        "<li>Créez une liste nommée <code>fruits</code> avec les éléments \"pomme\", \"banane\", \"cerise\".</li>\n",
        "<li>Ajoutez \"orange\" à la fin de la liste.</li>\n",
        "<li>Supprimez \"banane\" de la liste.</li>\n",
        "<li>Affichez le dernier élément de la liste.</li>"
      ]
    },
    {
      "cell_type": "code",
      "execution_count": 6,
      "metadata": {},
      "outputs": [
        {
          "name": "stdout",
          "output_type": "stream",
          "text": [
            "Liste de fruits mise à jour : ['pomme', 'cerise', 'orange']\n",
            "Dernier élément de la liste : orange\n"
          ]
        }
      ],
      "source": [
        "# Créez une liste nommée fruits avec les éléments \"pomme\", \"banane\", \"cerise\".\n",
        "fruits = [\"pomme\", \"banane\", \"cerise\"]\n",
        "\n",
        "# Ajoutez \"orange\" à la fin de la liste.\n",
        "fruits.append(\"orange\")\n",
        "\n",
        "# Supprimez \"banane\" de la liste.\n",
        "fruits.remove(\"banane\")\n",
        "\n",
        "# Affichez le dernier élément de la liste.\n",
        "dernier_element = fruits[-1]\n",
        "\n",
        "# Affichez la liste mise à jour.\n",
        "print(\"Liste de fruits mise à jour :\", fruits)\n",
        "\n",
        "# Affichez le dernier élément de la liste.\n",
        "print(\"Dernier élément de la liste :\", dernier_element)\n"
      ]
    },
    {
      "cell_type": "markdown",
      "metadata": {},
      "source": [
        "<li><b>Utilisation des Dictionnaires :</b>\n",
        "<ul>\n",
        "<li>Créez un dictionnaire représentant un utilisateur, avec les clés \"nom\", \"âge\" et \"ville\".</li>\n",
        "<li>Modifiez l'âge de l'utilisateur.</li>\n",
        "<li>Ajoutez une clé \"profession\" avec une valeur appropriée.</li>\n",
        "<li>Affichez toutes les clés du dictionnaire.</li>"
      ]
    },
    {
      "cell_type": "code",
      "execution_count": 7,
      "metadata": {},
      "outputs": [
        {
          "name": "stdout",
          "output_type": "stream",
          "text": [
            "Dictionnaire utilisateur mis à jour : {'nom': 'John Doe', 'âge': 26, 'ville': 'Paris', 'profession': 'Ingénieur'}\n",
            "Clés du dictionnaire : dict_keys(['nom', 'âge', 'ville', 'profession'])\n"
          ]
        }
      ],
      "source": [
        "# Créez un dictionnaire représentant un utilisateur avec les clés \"nom\", \"âge\" et \"ville\".\n",
        "utilisateur = {\"nom\": \"John Doe\", \"âge\": 25, \"ville\": \"Paris\"}\n",
        "\n",
        "# Modifiez l'âge de l'utilisateur.\n",
        "utilisateur[\"âge\"] = 26\n",
        "\n",
        "# Ajoutez une clé \"profession\" avec une valeur appropriée.\n",
        "utilisateur[\"profession\"] = \"Ingénieur\"\n",
        "\n",
        "# Affichez toutes les clés du dictionnaire.\n",
        "cles_du_dictionnaire = utilisateur.keys()\n",
        "\n",
        "# Affichez le dictionnaire mis à jour.\n",
        "print(\"Dictionnaire utilisateur mis à jour :\", utilisateur)\n",
        "\n",
        "# Affichez toutes les clés du dictionnaire.\n",
        "print(\"Clés du dictionnaire :\", cles_du_dictionnaire)\n"
      ]
    },
    {
      "cell_type": "markdown",
      "metadata": {},
      "source": [
        "<li><b>Contrôle de Flux :</b>\n",
        "<ul>\n",
        "<li>Écrivez une condition qui vérifie si l'âge de l'utilisateur est supérieur à 18 et imprimez un message approprié.</li>\n",
        "<li>Utilisez une boucle <code>for</code> pour afficher chaque fruit de la liste <code>fruits</code>.</li>\n",
        "<li>Écrivez une boucle <code>while</code> qui compte de 0 à 10 et s'arrête lorsqu'elle atteint 5.</li>\n",
        "</ul>\n",
        "</li>"
      ]
    },
    {
      "cell_type": "code",
      "execution_count": 8,
      "metadata": {},
      "outputs": [
        {
          "name": "stdout",
          "output_type": "stream",
          "text": [
            "L'utilisateur est majeur.\n",
            "Liste des fruits :\n",
            "pomme\n",
            "orange\n",
            "cerise\n",
            "0\n",
            "1\n",
            "2\n",
            "3\n",
            "4\n",
            "5\n"
          ]
        }
      ],
      "source": [
        "# Âge de l'utilisateur\n",
        "age_utilisateur = 20\n",
        "\n",
        "# Condition qui vérifie si l'âge de l'utilisateur est supérieur à 18 et imprime un message approprié.\n",
        "if age_utilisateur > 18:\n",
        "    print(\"L'utilisateur est majeur.\")\n",
        "\n",
        "# Liste de fruits\n",
        "fruits = [\"pomme\", \"orange\", \"cerise\"]\n",
        "\n",
        "# Utilisez une boucle for pour afficher chaque fruit de la liste fruits.\n",
        "print(\"Liste des fruits :\")\n",
        "for fruit in fruits:\n",
        "    print(fruit)\n",
        "\n",
        "# Écrivez une boucle while qui compte de 0 à 10 et s'arrête lorsqu'elle atteint 5.\n",
        "count = 0\n",
        "while count <= 10:\n",
        "    print(count)\n",
        "    if count == 5:\n",
        "        break\n",
        "    count += 1\n"
      ]
    },
    {
      "cell_type": "markdown",
      "metadata": {},
      "source": [
        "li><b>Fonctions et Gestion des Erreurs :</b>\n",
        "<ul>\n",
        "<li>Définissez une fonction nommée <code>saluer</code> qui prend un nom en paramètre et retourne un message de salutation.</li>\n",
        "<li>Utilisez un bloc <code>try-except</code> pour gérer une éventuelle erreur de type.</li>\n",
        "</ul>\n",
        "</li>"
      ]
    },
    {
      "cell_type": "code",
      "execution_count": 9,
      "metadata": {},
      "outputs": [
        {
          "name": "stdout",
          "output_type": "stream",
          "text": [
            "Bonjour, Jean !\n"
          ]
        }
      ],
      "source": [
        "# Définissez une fonction nommée saluer qui prend un nom en paramètre et retourne un message de salutation.\n",
        "def saluer(nom):\n",
        "    return f\"Bonjour, {nom} !\"\n",
        "\n",
        "# Utilisez un bloc try-except pour gérer une éventuelle erreur de type.\n",
        "try:\n",
        "    # Utilisez le nom \"Jean\" directement.\n",
        "    nom_utilisateur = \"Jean\"\n",
        "\n",
        "    # Appelez la fonction saluer avec le nom saisi et affichez le message de salutation.\n",
        "    message = saluer(nom_utilisateur)\n",
        "    print(message)\n",
        "\n",
        "except TypeError as e:\n",
        "    print(f\"Erreur de type : {e}\")\n",
        "except Exception as e:\n",
        "    print(f\"Une erreur s'est produite : {e}\")\n"
      ]
    },
    {
      "cell_type": "markdown",
      "metadata": {},
      "source": [
        "<li><b>Manipulation de Fichiers :</b>\n",
        "<ul>\n",
        "<li>Écrivez un petit texte dans un fichier nommé <code>note.txt</code>.</li>\n",
        "<li>Lisez et affichez le contenu de <code>note.txt</code>.</li>\n",
        "</ul>\n",
        "</li>"
      ]
    },
    {
      "cell_type": "code",
      "execution_count": 10,
      "metadata": {},
      "outputs": [
        {
          "name": "stdout",
          "output_type": "stream",
          "text": [
            "Contenu de note.txt :\n",
            " Ceci est un petit texte dans le fichier note.txt.\n",
            "Il peut contenir plusieurs lignes.\n"
          ]
        }
      ],
      "source": [
        "# Écrivez un petit texte dans un fichier nommé note.txt.\n",
        "with open(\"note.txt\", \"w\") as fichier:\n",
        "    fichier.write(\"Ceci est un petit texte dans le fichier note.txt.\\nIl peut contenir plusieurs lignes.\")\n",
        "\n",
        "# Lisez et affichez le contenu de note.txt.\n",
        "with open(\"note.txt\", \"r\") as fichier:\n",
        "    contenu = fichier.read()\n",
        "    print(\"Contenu de note.txt :\\n\", contenu)\n"
      ]
    }
  ],
  "metadata": {
    "colab": {
      "provenance": []
    },
    "kernelspec": {
      "display_name": "Python 3 (ipykernel)",
      "language": "python",
      "name": "python3"
    },
    "language_info": {
      "codemirror_mode": {
        "name": "ipython",
        "version": 3
      },
      "file_extension": ".py",
      "mimetype": "text/x-python",
      "name": "python",
      "nbconvert_exporter": "python",
      "pygments_lexer": "ipython3",
      "version": "3.10.8"
    }
  },
  "nbformat": 4,
  "nbformat_minor": 0
}
